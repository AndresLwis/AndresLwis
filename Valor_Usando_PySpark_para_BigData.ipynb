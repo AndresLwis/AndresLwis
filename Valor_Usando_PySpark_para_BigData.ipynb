{
  "nbformat": 4,
  "nbformat_minor": 0,
  "metadata": {
    "colab": {
      "provenance": [],
      "include_colab_link": true
    },
    "kernelspec": {
      "name": "python3",
      "display_name": "Python 3"
    },
    "language_info": {
      "name": "python"
    }
  },
  "cells": [
    {
      "cell_type": "markdown",
      "metadata": {
        "id": "view-in-github",
        "colab_type": "text"
      },
      "source": [
        "<a href=\"https://colab.research.google.com/github/AndresLwis/AndresLwis/blob/main/Valor_Usando_PySpark_para_BigData.ipynb\" target=\"_parent\"><img src=\"https://colab.research.google.com/assets/colab-badge.svg\" alt=\"Open In Colab\"/></a>"
      ]
    },
    {
      "cell_type": "markdown",
      "source": [
        "## ENTREGA FINAL BIG DATA\n",
        "#Leonardo Villegas - Lewis Puello"
      ],
      "metadata": {
        "id": "nA2MnvmKArr2"
      }
    },
    {
      "cell_type": "markdown",
      "source": [
        "En el presente informe se hará entrega del taller final de big data, en el que se buscó generar valor agregado al dataset “Electric Vehicle Population”, mediante operaciones con PySpark. También se utilizó el dataset: “Electric_Vehicle_Title_and_Registration_Activity” para realizar relaciones entre tablas y proponer diferentes tipos de resultado.\n",
        "A continuación, se detalla el paso a paso de la elaboración del taller."
      ],
      "metadata": {
        "id": "GIVy-yCAApG_"
      }
    },
    {
      "cell_type": "markdown",
      "source": [
        "##Fuentes de Información"
      ],
      "metadata": {
        "id": "sq-CKGuyA3xt"
      }
    },
    {
      "cell_type": "markdown",
      "source": [
        "Se utilizó el dataset: “Electric Vehicle Population” del catálogo de datos de Washington, el cual muestra los vehículos eléctricos de batería (BEV) y los vehículos eléctricos híbridos enchufables (PHEV) que están actualmente registrados a través del Departamento de Licencias del Estado de Washington (DOL)."
      ],
      "metadata": {
        "id": "LBdLaKNDBDr1"
      }
    },
    {
      "cell_type": "markdown",
      "source": [
        "Teniendo los datos se procedió a descargarlos (26.116 KB como se muestra en la  y montarlos en Google Drive en una nueva carpeta destinada para los Datasets). Esa carpeta se leyó desde Google Colaboratory activando la sincronización con el Google Drive para leer la ruta del archivo y tenerlo a disposición en el momento de requerir analizarlo el usuario."
      ],
      "metadata": {
        "id": "_Vc_vBRXBGID"
      }
    },
    {
      "cell_type": "markdown",
      "source": [
        "Las variables del dataset son las siguientes\n",
        "* VIN (1-10): The 1st 10 characters of each vehicle's Vehicle Identification Number (VIN).\n",
        "* County: The county in which the registered owner resides.\n",
        "* City: The city in which the registered owner resides.\n",
        "* State: The state in which the registered owner resides.\n",
        "* Postal Code: The 5-digit zip code in which the registered owner resides.\n",
        "* Model Year: The model year of the vehicle, determined by decoding the Vehicle Identification Number (VIN).\n",
        "* Make: The manufacturer of the vehicle, determined by decoding the Vehicle Identification Number (VIN).\n",
        "*\tModel: The model of the vehicle, determined by decoding the Vehicle Identification Number (VIN).\n",
        "*\tElectric Vehicle Type: This distinguishes the vehicle as all electric or a plug-in hybrid.\n",
        "*\tClean Alternative: This categorizes vehicle as Clean Alternative Fuel Vehicles (CAFVs) based on the fuel requirement and electric-only range\n",
        "*\tElectric Range: Describes how far a vehicle can travel purely on its electric charge.\n",
        "*\tBase MSRP: This is the lowest Manufacturer's Suggested Retail Price (MSRP) for any trim level of the model in question.\n",
        "*\tLegislative District: The specific section of Washington State that the vehicle's owner resides in, as represented in the state legislature.\n",
        "*\tDOL Vehicle ID: Unique number assigned to each vehicle by Department of Licensing for identification purposes.\n",
        "*\tVehicle Localization: The center of the ZIP Code for the registered vehicle.\n",
        "*\tElectric Utility: This is the electric power retail service territories serving the address of the registered vehicle. All ownership types for areas.\n",
        "*\t2020 Census Tract: The census tract identifier is a combination of the state, county, and census tract codes as assigned by the United States\n",
        "\n",
        "\n",
        "Fuente: Kaggle\n",
        "Disponible en: https://www.kaggle.com/datasets/ssarkar445/electric-vehicle-population?resource=download\n"
      ],
      "metadata": {
        "id": "ctQPfTBABcvA"
      }
    },
    {
      "cell_type": "markdown",
      "source": [
        "## Instalar PySpark"
      ],
      "metadata": {
        "id": "kd_b147eCUzJ"
      }
    },
    {
      "cell_type": "code",
      "execution_count": null,
      "metadata": {
        "colab": {
          "base_uri": "https://localhost:8080/"
        },
        "id": "XLAfus2vIh6-",
        "outputId": "afc100f2-cab8-45c3-e23b-835cc462e637"
      },
      "outputs": [
        {
          "output_type": "stream",
          "name": "stdout",
          "text": [
            "Looking in indexes: https://pypi.org/simple, https://us-python.pkg.dev/colab-wheels/public/simple/\n",
            "Requirement already satisfied: pyspark in /usr/local/lib/python3.8/dist-packages (3.3.1)\n",
            "Requirement already satisfied: py4j==0.10.9.5 in /usr/local/lib/python3.8/dist-packages (from pyspark) (0.10.9.5)\n"
          ]
        }
      ],
      "source": [
        "# Install pyspark\n",
        "!pip install pyspark\n",
        " \n",
        "# Import SparkSession\n",
        "from pyspark.sql import SparkSession\n",
        "# Create a Spark Session\n",
        "spark = SparkSession.builder.master(\"local[*]\").getOrCreate()\n",
        "# Check Spark Session Information\n",
        "spark\n",
        " \n",
        "# Import a Spark function from library\n",
        "from pyspark.sql.functions import col"
      ]
    },
    {
      "cell_type": "markdown",
      "source": [
        "## Cargar datos"
      ],
      "metadata": {
        "id": "3kDatVWVCaRX"
      }
    },
    {
      "cell_type": "code",
      "source": [
        "from pyspark.sql import SparkSession, DataFrame\n",
        "import sys\n",
        " \n",
        " \n",
        "spark = SparkSession.builder \\\n",
        "    .master('local') \\\n",
        "    .appName('test etl') \\\n",
        "    .config('spark.executor.memory', '1gb') \\\n",
        "    .config(\"spark.cores.max\", \"2\") \\\n",
        "    .getOrCreate()\n",
        " \n",
        "separator = \",\"\n",
        "df = spark.read.option(\"delimiter\", separator).csv('/content/drive/MyDrive/FinalBigData_(Datasets)/Electric_Vehicle_Population_Data.csv', header=True, inferSchema=True)\n",
        " \n",
        "df.printSchema()\n",
        " \n",
        "df.show(n=30, truncate=False)\n",
        " \n",
        "#display(df)\n",
        " \n",
        "print(\"Cant=\" + str(df.count()))\n",
        " \n",
        "# Se observará que sale un DF de una sola columna y es porque faltó especificar el separador.\n",
        "# separator = \"\\t\"\n",
        "# .option(\"delimiter\", separator)"
      ],
      "metadata": {
        "colab": {
          "base_uri": "https://localhost:8080/"
        },
        "id": "mGFmBopLKa06",
        "outputId": "108af9d7-f097-4ce7-ff85-e9206f16011a"
      },
      "execution_count": null,
      "outputs": [
        {
          "output_type": "stream",
          "name": "stdout",
          "text": [
            "root\n",
            " |-- VIN (1-10): string (nullable = true)\n",
            " |-- County: string (nullable = true)\n",
            " |-- City: string (nullable = true)\n",
            " |-- State: string (nullable = true)\n",
            " |-- Postal Code: integer (nullable = true)\n",
            " |-- Model Year: integer (nullable = true)\n",
            " |-- Make: string (nullable = true)\n",
            " |-- Model: string (nullable = true)\n",
            " |-- Electric Vehicle Type: string (nullable = true)\n",
            " |-- Clean Alternative Fuel Vehicle (CAFV) Eligibility: string (nullable = true)\n",
            " |-- Electric Range: integer (nullable = true)\n",
            " |-- Base MSRP: integer (nullable = true)\n",
            " |-- Legislative District: integer (nullable = true)\n",
            " |-- DOL Vehicle ID: integer (nullable = true)\n",
            " |-- Vehicle Location: string (nullable = true)\n",
            " |-- Electric Utility: string (nullable = true)\n",
            " |-- 2020 Census Tract: long (nullable = true)\n",
            "\n",
            "+----------+---------+-----------------+-----+-----------+----------+---------+----------+--------------------------------------+------------------------------------------------------------+--------------+---------+--------------------+--------------+---------------------------+---------------------------------------------+-----------------+\n",
            "|VIN (1-10)|County   |City             |State|Postal Code|Model Year|Make     |Model     |Electric Vehicle Type                 |Clean Alternative Fuel Vehicle (CAFV) Eligibility           |Electric Range|Base MSRP|Legislative District|DOL Vehicle ID|Vehicle Location           |Electric Utility                             |2020 Census Tract|\n",
            "+----------+---------+-----------------+-----+-----------+----------+---------+----------+--------------------------------------+------------------------------------------------------------+--------------+---------+--------------------+--------------+---------------------------+---------------------------------------------+-----------------+\n",
            "|JTMEB3FV6N|Monroe   |Key West         |FL   |33040      |2022      |TOYOTA   |RAV4 PRIME|Plug-in Hybrid Electric Vehicle (PHEV)|Clean Alternative Fuel Vehicle Eligible                     |42            |0        |null                |198968248     |POINT (-81.80023 24.5545)  |null                                         |12087972100      |\n",
            "|1G1RD6E45D|Clark    |Laughlin         |NV   |89029      |2013      |CHEVROLET|VOLT      |Plug-in Hybrid Electric Vehicle (PHEV)|Clean Alternative Fuel Vehicle Eligible                     |38            |0        |null                |5204412       |POINT (-114.57245 35.16815)|null                                         |32003005702      |\n",
            "|JN1AZ0CP8B|Yakima   |Yakima           |WA   |98901      |2011      |NISSAN   |LEAF      |Battery Electric Vehicle (BEV)        |Clean Alternative Fuel Vehicle Eligible                     |73            |0        |15                  |218972519     |POINT (-120.50721 46.60448)|PACIFICORP                                   |53077001602      |\n",
            "|1G1FW6S08H|Skagit   |Concrete         |WA   |98237      |2017      |CHEVROLET|BOLT EV   |Battery Electric Vehicle (BEV)        |Clean Alternative Fuel Vehicle Eligible                     |238           |0        |39                  |186750406     |POINT (-121.7515 48.53892) |PUGET SOUND ENERGY INC                       |53057951101      |\n",
            "|3FA6P0SU1K|Snohomish|Everett          |WA   |98201      |2019      |FORD     |FUSION    |Plug-in Hybrid Electric Vehicle (PHEV)|Not eligible due to low battery range                       |26            |0        |38                  |2006714       |POINT (-122.20596 47.97659)|PUGET SOUND ENERGY INC                       |53061041500      |\n",
            "|5YJ3E1EB5J|Snohomish|Bothell          |WA   |98021      |2018      |TESLA    |MODEL 3   |Battery Electric Vehicle (BEV)        |Clean Alternative Fuel Vehicle Eligible                     |215           |0        |1                   |475635324     |POINT (-122.18384 47.8031) |PUGET SOUND ENERGY INC                       |53061051916      |\n",
            "|1N4AZ0CP4D|Snohomish|Everett          |WA   |98203      |2013      |NISSAN   |LEAF      |Battery Electric Vehicle (BEV)        |Clean Alternative Fuel Vehicle Eligible                     |75            |0        |38                  |253546023     |POINT (-122.23019 47.94949)|PUGET SOUND ENERGY INC                       |53061040900      |\n",
            "|1N4AZ0CP0D|Snohomish|Mukilteo         |WA   |98275      |2013      |NISSAN   |LEAF      |Battery Electric Vehicle (BEV)        |Clean Alternative Fuel Vehicle Eligible                     |75            |0        |21                  |176817364     |POINT (-122.29196 47.89908)|PUGET SOUND ENERGY INC                       |53061042001      |\n",
            "|1N4BZ0CP4G|Island   |Clinton          |WA   |98236      |2016      |NISSAN   |LEAF      |Battery Electric Vehicle (BEV)        |Clean Alternative Fuel Vehicle Eligible                     |84            |0        |10                  |475900379     |POINT (-122.35803 47.9796) |PUGET SOUND ENERGY INC                       |53029972100      |\n",
            "|KNDJP3AE2G|Skagit   |Anacortes        |WA   |98221      |2016      |KIA      |SOUL      |Battery Electric Vehicle (BEV)        |Clean Alternative Fuel Vehicle Eligible                     |93            |31950    |40                  |100489049     |POINT (-122.61214 48.51748)|PUGET SOUND ENERGY INC                       |53057940301      |\n",
            "|WA1F2AFY1L|Thurston |Lacey            |WA   |98516      |2020      |AUDI     |Q5 E      |Plug-in Hybrid Electric Vehicle (PHEV)|Not eligible due to low battery range                       |20            |0        |22                  |103317238     |POINT (-122.75379 47.06316)|PUGET SOUND ENERGY INC                       |53067012221      |\n",
            "|5YJXCBE23L|Grant    |Moses Lake       |WA   |98837      |2020      |TESLA    |MODEL X   |Battery Electric Vehicle (BEV)        |Clean Alternative Fuel Vehicle Eligible                     |293           |0        |13                  |3214494       |POINT (-119.2771 47.13196) |PUD NO 2 OF GRANT COUNTY                     |53025010904      |\n",
            "|3C3CFFGE3G|St. Clair|Mascoutah        |IL   |62258      |2016      |FIAT     |500       |Battery Electric Vehicle (BEV)        |Clean Alternative Fuel Vehicle Eligible                     |84            |0        |null                |153786167     |POINT (-89.79939 38.49028) |null                                         |17163504356      |\n",
            "|1G1RD6S50G|Thurston |Rochester        |WA   |98579      |2016      |CHEVROLET|VOLT      |Plug-in Hybrid Electric Vehicle (PHEV)|Clean Alternative Fuel Vehicle Eligible                     |53            |0        |20                  |476126752     |POINT (-123.08743 46.82175)|PUGET SOUND ENERGY INC                       |53067012730      |\n",
            "|5YJ3E1EA1J|Skagit   |Burlington       |WA   |98233      |2018      |TESLA    |MODEL 3   |Battery Electric Vehicle (BEV)        |Clean Alternative Fuel Vehicle Eligible                     |215           |0        |40                  |211534823     |POINT (-122.33029 48.46846)|PUGET SOUND ENERGY INC                       |53057951600      |\n",
            "|1N4BZ1CP4K|Snohomish|Everett          |WA   |98201      |2019      |NISSAN   |LEAF      |Battery Electric Vehicle (BEV)        |Clean Alternative Fuel Vehicle Eligible                     |150           |0        |38                  |203204347     |POINT (-122.20596 47.97659)|PUGET SOUND ENERGY INC                       |53061040100      |\n",
            "|1N4AZ0CP4D|Pierce   |Kapowsin         |WA   |98344      |2013      |NISSAN   |LEAF      |Battery Electric Vehicle (BEV)        |Clean Alternative Fuel Vehicle Eligible                     |75            |0        |2                   |237061968     |null                       |PUGET SOUND ENERGY INC||CITY OF TACOMA - (WA)|53053073119      |\n",
            "|1N4BZ0CP4H|Snohomish|Marysville       |WA   |98271      |2017      |NISSAN   |LEAF      |Battery Electric Vehicle (BEV)        |Clean Alternative Fuel Vehicle Eligible                     |107           |0        |38                  |262138243     |POINT (-122.19388 48.15353)|PUGET SOUND ENERGY INC                       |53061052805      |\n",
            "|5UXKT0C50G|Snohomish|Lynnwood         |WA   |98037      |2016      |BMW      |X5        |Plug-in Hybrid Electric Vehicle (PHEV)|Not eligible due to low battery range                       |14            |0        |32                  |320712472     |POINT (-122.27734 47.83785)|PUGET SOUND ENERGY INC                       |53061051802      |\n",
            "|5YJXCAE28G|Saratoga |Greenfield Center|NY   |12833      |2016      |TESLA    |MODEL X   |Battery Electric Vehicle (BEV)        |Clean Alternative Fuel Vehicle Eligible                     |200           |0        |null                |218050878     |POINT (-73.84643 43.1284)  |null                                         |36091060601      |\n",
            "|5YJ3E1EA6J|Snohomish|Edmonds          |WA   |98026      |2018      |TESLA    |MODEL 3   |Battery Electric Vehicle (BEV)        |Clean Alternative Fuel Vehicle Eligible                     |215           |0        |21                  |139647847     |POINT (-122.31768 47.87166)|PUGET SOUND ENERGY INC                       |53061050200      |\n",
            "|1G1RD6S55H|Stevens  |Nine Mile Falls  |WA   |99026      |2017      |CHEVROLET|VOLT      |Plug-in Hybrid Electric Vehicle (PHEV)|Clean Alternative Fuel Vehicle Eligible                     |53            |0        |7                   |141964049     |POINT (-117.54392 47.77676)|null                                         |53065951402      |\n",
            "|1N4AZ1CV8M|Thurston |Olympia          |WA   |98502      |2021      |NISSAN   |LEAF      |Battery Electric Vehicle (BEV)        |Eligibility unknown as battery range has not been researched|0             |0        |22                  |168414802     |POINT (-122.92333 47.03779)|PUGET SOUND ENERGY INC                       |53067010600      |\n",
            "|1N4BZ0CP9H|Snohomish|Everett          |WA   |98201      |2017      |NISSAN   |LEAF      |Battery Electric Vehicle (BEV)        |Clean Alternative Fuel Vehicle Eligible                     |107           |0        |38                  |347122709     |POINT (-122.20596 47.97659)|PUGET SOUND ENERGY INC                       |53061040300      |\n",
            "|WBAJB1C51K|Snohomish|Lynnwood         |WA   |98087      |2019      |BMW      |530E      |Plug-in Hybrid Electric Vehicle (PHEV)|Not eligible due to low battery range                       |15            |55700    |21                  |180189544     |POINT (-122.27981 47.85727)|PUGET SOUND ENERGY INC                       |53061042004      |\n",
            "|1N4AZ1CP0J|King     |Seattle          |WA   |98125      |2018      |NISSAN   |LEAF      |Battery Electric Vehicle (BEV)        |Clean Alternative Fuel Vehicle Eligible                     |151           |0        |46                  |230229198     |POINT (-122.3026 47.72656) |CITY OF SEATTLE - (WA)|CITY OF TACOMA - (WA) |53033000202      |\n",
            "|5YJ3E1EA9L|King     |Auburn           |WA   |98001      |2020      |TESLA    |MODEL 3   |Battery Electric Vehicle (BEV)        |Clean Alternative Fuel Vehicle Eligible                     |266           |0        |30                  |4759478       |POINT (-122.23035 47.3074) |PUGET SOUND ENERGY INC||CITY OF TACOMA - (WA)|53033029805      |\n",
            "|WP0AC2Y19L|Thurston |Olympia          |WA   |98502      |2020      |PORSCHE  |TAYCAN    |Battery Electric Vehicle (BEV)        |Clean Alternative Fuel Vehicle Eligible                     |192           |0        |35                  |169466916     |POINT (-122.92333 47.03779)|PUGET SOUND ENERGY INC                       |53067011902      |\n",
            "|5UXTS1C05M|King     |Seattle          |WA   |98115      |2021      |BMW      |X3        |Plug-in Hybrid Electric Vehicle (PHEV)|Not eligible due to low battery range                       |17            |0        |46                  |132838877     |POINT (-122.31765 47.70013)|CITY OF SEATTLE - (WA)|CITY OF TACOMA - (WA) |53033002100      |\n",
            "|1N4BZ0CP4H|Snohomish|Edmonds          |WA   |98020      |2017      |NISSAN   |LEAF      |Battery Electric Vehicle (BEV)        |Clean Alternative Fuel Vehicle Eligible                     |107           |0        |32                  |157076713     |POINT (-122.37689 47.81116)|PUGET SOUND ENERGY INC                       |53061050800      |\n",
            "+----------+---------+-----------------+-----+-----------+----------+---------+----------+--------------------------------------+------------------------------------------------------------+--------------+---------+--------------------+--------------+---------------------------+---------------------------------------------+-----------------+\n",
            "only showing top 30 rows\n",
            "\n",
            "Cant=112634\n"
          ]
        }
      ]
    },
    {
      "cell_type": "markdown",
      "source": [
        "#Operación de Filtrado\n",
        "\n",
        "Se propone realizar un análisis a los modelos a partir del año 2014 (Año en que la venta de estos vehículos en el mercado empieza a crecer constantemente) y solo a aquellos registros que tengan un rango de viaje de acuerdo con la carga eléctrica."
      ],
      "metadata": {
        "id": "QVPmSiFbCfoN"
      }
    },
    {
      "cell_type": "code",
      "source": [
        "#Se filtran los datos de los modelos posteriores al 2014 y aquellos a los que se les ha investigado el recorrido máximo de recorrido\n",
        "df = df.where((df[\"Model Year\"] >= \"2014\") & (df[\"Electric Range\"]>'0'))\n",
        "df.show(n=30, truncate=False)"
      ],
      "metadata": {
        "colab": {
          "base_uri": "https://localhost:8080/"
        },
        "id": "Qo2edEfTPFL6",
        "outputId": "3d60e08d-9387-4810-9a7d-7ad00593539c"
      },
      "execution_count": null,
      "outputs": [
        {
          "output_type": "stream",
          "name": "stdout",
          "text": [
            "+----------+---------+-----------------+-----+-----------+----------+---------+----------+--------------------------------------+-------------------------------------------------+--------------+---------+--------------------+--------------+---------------------------+---------------------------------------------+-----------------+\n",
            "|VIN (1-10)|County   |City             |State|Postal Code|Model Year|Make     |Model     |Electric Vehicle Type                 |Clean Alternative Fuel Vehicle (CAFV) Eligibility|Electric Range|Base MSRP|Legislative District|DOL Vehicle ID|Vehicle Location           |Electric Utility                             |2020 Census Tract|\n",
            "+----------+---------+-----------------+-----+-----------+----------+---------+----------+--------------------------------------+-------------------------------------------------+--------------+---------+--------------------+--------------+---------------------------+---------------------------------------------+-----------------+\n",
            "|JTMEB3FV6N|Monroe   |Key West         |FL   |33040      |2022      |TOYOTA   |RAV4 PRIME|Plug-in Hybrid Electric Vehicle (PHEV)|Clean Alternative Fuel Vehicle Eligible          |42            |0        |null                |198968248     |POINT (-81.80023 24.5545)  |null                                         |12087972100      |\n",
            "|1G1FW6S08H|Skagit   |Concrete         |WA   |98237      |2017      |CHEVROLET|BOLT EV   |Battery Electric Vehicle (BEV)        |Clean Alternative Fuel Vehicle Eligible          |238           |0        |39                  |186750406     |POINT (-121.7515 48.53892) |PUGET SOUND ENERGY INC                       |53057951101      |\n",
            "|3FA6P0SU1K|Snohomish|Everett          |WA   |98201      |2019      |FORD     |FUSION    |Plug-in Hybrid Electric Vehicle (PHEV)|Not eligible due to low battery range            |26            |0        |38                  |2006714       |POINT (-122.20596 47.97659)|PUGET SOUND ENERGY INC                       |53061041500      |\n",
            "|5YJ3E1EB5J|Snohomish|Bothell          |WA   |98021      |2018      |TESLA    |MODEL 3   |Battery Electric Vehicle (BEV)        |Clean Alternative Fuel Vehicle Eligible          |215           |0        |1                   |475635324     |POINT (-122.18384 47.8031) |PUGET SOUND ENERGY INC                       |53061051916      |\n",
            "|1N4BZ0CP4G|Island   |Clinton          |WA   |98236      |2016      |NISSAN   |LEAF      |Battery Electric Vehicle (BEV)        |Clean Alternative Fuel Vehicle Eligible          |84            |0        |10                  |475900379     |POINT (-122.35803 47.9796) |PUGET SOUND ENERGY INC                       |53029972100      |\n",
            "|KNDJP3AE2G|Skagit   |Anacortes        |WA   |98221      |2016      |KIA      |SOUL      |Battery Electric Vehicle (BEV)        |Clean Alternative Fuel Vehicle Eligible          |93            |31950    |40                  |100489049     |POINT (-122.61214 48.51748)|PUGET SOUND ENERGY INC                       |53057940301      |\n",
            "|WA1F2AFY1L|Thurston |Lacey            |WA   |98516      |2020      |AUDI     |Q5 E      |Plug-in Hybrid Electric Vehicle (PHEV)|Not eligible due to low battery range            |20            |0        |22                  |103317238     |POINT (-122.75379 47.06316)|PUGET SOUND ENERGY INC                       |53067012221      |\n",
            "|5YJXCBE23L|Grant    |Moses Lake       |WA   |98837      |2020      |TESLA    |MODEL X   |Battery Electric Vehicle (BEV)        |Clean Alternative Fuel Vehicle Eligible          |293           |0        |13                  |3214494       |POINT (-119.2771 47.13196) |PUD NO 2 OF GRANT COUNTY                     |53025010904      |\n",
            "|3C3CFFGE3G|St. Clair|Mascoutah        |IL   |62258      |2016      |FIAT     |500       |Battery Electric Vehicle (BEV)        |Clean Alternative Fuel Vehicle Eligible          |84            |0        |null                |153786167     |POINT (-89.79939 38.49028) |null                                         |17163504356      |\n",
            "|1G1RD6S50G|Thurston |Rochester        |WA   |98579      |2016      |CHEVROLET|VOLT      |Plug-in Hybrid Electric Vehicle (PHEV)|Clean Alternative Fuel Vehicle Eligible          |53            |0        |20                  |476126752     |POINT (-123.08743 46.82175)|PUGET SOUND ENERGY INC                       |53067012730      |\n",
            "|5YJ3E1EA1J|Skagit   |Burlington       |WA   |98233      |2018      |TESLA    |MODEL 3   |Battery Electric Vehicle (BEV)        |Clean Alternative Fuel Vehicle Eligible          |215           |0        |40                  |211534823     |POINT (-122.33029 48.46846)|PUGET SOUND ENERGY INC                       |53057951600      |\n",
            "|1N4BZ1CP4K|Snohomish|Everett          |WA   |98201      |2019      |NISSAN   |LEAF      |Battery Electric Vehicle (BEV)        |Clean Alternative Fuel Vehicle Eligible          |150           |0        |38                  |203204347     |POINT (-122.20596 47.97659)|PUGET SOUND ENERGY INC                       |53061040100      |\n",
            "|1N4BZ0CP4H|Snohomish|Marysville       |WA   |98271      |2017      |NISSAN   |LEAF      |Battery Electric Vehicle (BEV)        |Clean Alternative Fuel Vehicle Eligible          |107           |0        |38                  |262138243     |POINT (-122.19388 48.15353)|PUGET SOUND ENERGY INC                       |53061052805      |\n",
            "|5UXKT0C50G|Snohomish|Lynnwood         |WA   |98037      |2016      |BMW      |X5        |Plug-in Hybrid Electric Vehicle (PHEV)|Not eligible due to low battery range            |14            |0        |32                  |320712472     |POINT (-122.27734 47.83785)|PUGET SOUND ENERGY INC                       |53061051802      |\n",
            "|5YJXCAE28G|Saratoga |Greenfield Center|NY   |12833      |2016      |TESLA    |MODEL X   |Battery Electric Vehicle (BEV)        |Clean Alternative Fuel Vehicle Eligible          |200           |0        |null                |218050878     |POINT (-73.84643 43.1284)  |null                                         |36091060601      |\n",
            "|5YJ3E1EA6J|Snohomish|Edmonds          |WA   |98026      |2018      |TESLA    |MODEL 3   |Battery Electric Vehicle (BEV)        |Clean Alternative Fuel Vehicle Eligible          |215           |0        |21                  |139647847     |POINT (-122.31768 47.87166)|PUGET SOUND ENERGY INC                       |53061050200      |\n",
            "|1G1RD6S55H|Stevens  |Nine Mile Falls  |WA   |99026      |2017      |CHEVROLET|VOLT      |Plug-in Hybrid Electric Vehicle (PHEV)|Clean Alternative Fuel Vehicle Eligible          |53            |0        |7                   |141964049     |POINT (-117.54392 47.77676)|null                                         |53065951402      |\n",
            "|1N4BZ0CP9H|Snohomish|Everett          |WA   |98201      |2017      |NISSAN   |LEAF      |Battery Electric Vehicle (BEV)        |Clean Alternative Fuel Vehicle Eligible          |107           |0        |38                  |347122709     |POINT (-122.20596 47.97659)|PUGET SOUND ENERGY INC                       |53061040300      |\n",
            "|WBAJB1C51K|Snohomish|Lynnwood         |WA   |98087      |2019      |BMW      |530E      |Plug-in Hybrid Electric Vehicle (PHEV)|Not eligible due to low battery range            |15            |55700    |21                  |180189544     |POINT (-122.27981 47.85727)|PUGET SOUND ENERGY INC                       |53061042004      |\n",
            "|1N4AZ1CP0J|King     |Seattle          |WA   |98125      |2018      |NISSAN   |LEAF      |Battery Electric Vehicle (BEV)        |Clean Alternative Fuel Vehicle Eligible          |151           |0        |46                  |230229198     |POINT (-122.3026 47.72656) |CITY OF SEATTLE - (WA)|CITY OF TACOMA - (WA) |53033000202      |\n",
            "|5YJ3E1EA9L|King     |Auburn           |WA   |98001      |2020      |TESLA    |MODEL 3   |Battery Electric Vehicle (BEV)        |Clean Alternative Fuel Vehicle Eligible          |266           |0        |30                  |4759478       |POINT (-122.23035 47.3074) |PUGET SOUND ENERGY INC||CITY OF TACOMA - (WA)|53033029805      |\n",
            "|WP0AC2Y19L|Thurston |Olympia          |WA   |98502      |2020      |PORSCHE  |TAYCAN    |Battery Electric Vehicle (BEV)        |Clean Alternative Fuel Vehicle Eligible          |192           |0        |35                  |169466916     |POINT (-122.92333 47.03779)|PUGET SOUND ENERGY INC                       |53067011902      |\n",
            "|5UXTS1C05M|King     |Seattle          |WA   |98115      |2021      |BMW      |X3        |Plug-in Hybrid Electric Vehicle (PHEV)|Not eligible due to low battery range            |17            |0        |46                  |132838877     |POINT (-122.31765 47.70013)|CITY OF SEATTLE - (WA)|CITY OF TACOMA - (WA) |53033002100      |\n",
            "|1N4BZ0CP4H|Snohomish|Edmonds          |WA   |98020      |2017      |NISSAN   |LEAF      |Battery Electric Vehicle (BEV)        |Clean Alternative Fuel Vehicle Eligible          |107           |0        |32                  |157076713     |POINT (-122.37689 47.81116)|PUGET SOUND ENERGY INC                       |53061050800      |\n",
            "|WAUSPBFF4G|Snohomish|Bothell          |WA   |98021      |2016      |AUDI     |A3        |Plug-in Hybrid Electric Vehicle (PHEV)|Not eligible due to low battery range            |16            |0        |1                   |222389436     |POINT (-122.18384 47.8031) |PUGET SOUND ENERGY INC                       |53061051926      |\n",
            "|5YJXCBE24H|Island   |Langley          |WA   |98260      |2017      |TESLA    |MODEL X   |Battery Electric Vehicle (BEV)        |Clean Alternative Fuel Vehicle Eligible          |200           |0        |10                  |305760101     |POINT (-122.40618 48.0399) |PUGET SOUND ENERGY INC                       |53029971900      |\n",
            "|5YJ3E1EB2K|Yakima   |Yakima           |WA   |98901      |2019      |TESLA    |MODEL 3   |Battery Electric Vehicle (BEV)        |Clean Alternative Fuel Vehicle Eligible          |220           |0        |15                  |221375612     |POINT (-120.50721 46.60448)|PACIFICORP                                   |53077001503      |\n",
            "|KNDJX3AE6J|Thurston |Lacey            |WA   |98503      |2018      |KIA      |SOUL EV   |Battery Electric Vehicle (BEV)        |Clean Alternative Fuel Vehicle Eligible          |111           |33950    |22                  |333554245     |POINT (-122.82324 47.04437)|PUGET SOUND ENERGY INC                       |53067011200      |\n",
            "|5YJ3E1EAXJ|Thurston |Olympia          |WA   |98501      |2018      |TESLA    |MODEL 3   |Battery Electric Vehicle (BEV)        |Clean Alternative Fuel Vehicle Eligible          |215           |0        |22                  |162260283     |POINT (-122.89166 47.03956)|PUGET SOUND ENERGY INC                       |53067010400      |\n",
            "|5YJ3E1EA5K|Snohomish|Everett          |WA   |98208      |2019      |TESLA    |MODEL 3   |Battery Electric Vehicle (BEV)        |Clean Alternative Fuel Vehicle Eligible          |220           |0        |38                  |478392596     |POINT (-122.18637 47.89252)|PUGET SOUND ENERGY INC                       |53061041605      |\n",
            "+----------+---------+-----------------+-----+-----------+----------+---------+----------+--------------------------------------+-------------------------------------------------+--------------+---------+--------------------+--------------+---------------------------+---------------------------------------------+-----------------+\n",
            "only showing top 30 rows\n",
            "\n"
          ]
        }
      ]
    },
    {
      "cell_type": "markdown",
      "source": [
        "## Agregando Valor a los Datos"
      ],
      "metadata": {
        "id": "zeB-c9LHCmYN"
      }
    },
    {
      "cell_type": "markdown",
      "source": [
        "Con el ánimo de conocer la distribución de los registros por marca y modelo agrupamos por estas variables en orden ascendente el recuento de registros, arrojando los siguientes resultados "
      ],
      "metadata": {
        "id": "7MWws-efCqoP"
      }
    },
    {
      "cell_type": "code",
      "source": [
        "dfagr = df.groupBy(\"Make\",\"Model\").count() \n",
        "dfagr = dfagr.orderBy(dfagr[\"count\"].desc())\n",
        "dfagr.show(n=30, truncate=False)"
      ],
      "metadata": {
        "colab": {
          "base_uri": "https://localhost:8080/"
        },
        "id": "SPW6os7KR3yS",
        "outputId": "aa313216-59bc-449d-e064-fba22458df42"
      },
      "execution_count": null,
      "outputs": [
        {
          "output_type": "stream",
          "name": "stdout",
          "text": [
            "+----------+-----------+-----+\n",
            "|Make      |Model      |count|\n",
            "+----------+-----------+-----+\n",
            "|TESLA     |MODEL 3    |13814|\n",
            "|NISSAN    |LEAF       |7844 |\n",
            "|TESLA     |MODEL S    |5240 |\n",
            "|CHEVROLET |BOLT EV    |3590 |\n",
            "|CHEVROLET |VOLT       |3511 |\n",
            "|TESLA     |MODEL X    |3263 |\n",
            "|TOYOTA    |PRIUS PRIME|2380 |\n",
            "|TESLA     |MODEL Y    |2293 |\n",
            "|BMW       |I3         |1865 |\n",
            "|CHRYSLER  |PACIFICA   |1794 |\n",
            "|FORD      |FUSION     |1658 |\n",
            "|KIA       |NIRO       |1595 |\n",
            "|BMW       |X5         |1407 |\n",
            "|FORD      |C-MAX      |1167 |\n",
            "|JEEP      |WRANGLER   |1104 |\n",
            "|TOYOTA    |RAV4 PRIME |1038 |\n",
            "|VOLKSWAGEN|E-GOLF     |1029 |\n",
            "|VOLVO     |XC90       |820  |\n",
            "|HONDA     |CLARITY    |783  |\n",
            "|FIAT      |500        |716  |\n",
            "|VOLVO     |XC60       |702  |\n",
            "|AUDI      |A3         |575  |\n",
            "|AUDI      |E-TRON     |524  |\n",
            "|MITSUBISHI|OUTLANDER  |523  |\n",
            "|AUDI      |Q5 E       |479  |\n",
            "|KIA       |SOUL       |429  |\n",
            "|KIA       |SORENTO    |345  |\n",
            "|BMW       |530E       |323  |\n",
            "|BMW       |330E       |303  |\n",
            "|BMW       |X3         |292  |\n",
            "+----------+-----------+-----+\n",
            "only showing top 30 rows\n",
            "\n"
          ]
        }
      ]
    },
    {
      "cell_type": "markdown",
      "source": [
        "Se utilizaron ventanas para mirar el ranking de los modelos por cada marca. Es decir, cuantos vehículos hay registrados por cada marca de manera organizada, esto nos permite conocer el top de modelos por cada marca."
      ],
      "metadata": {
        "id": "y-1hiRAoCuhn"
      }
    },
    {
      "cell_type": "code",
      "source": [
        "#Realizamos una operación mediante ventanas para mirar el ranking de los modelos para cada marca \n",
        "from pyspark.sql.types import Row, StructType, StructField, IntegerType, StringType, DateType, TimestampType, \\\n",
        "    LongType, FloatType\n",
        "from pyspark.sql.window import Window\n",
        "from pyspark.sql.functions import min, max, rank,percent_rank\n",
        "\n",
        "w = Window.partitionBy(dfagr[\"Make\"]).orderBy(dfagr[\"count\"].desc())\n",
        "df_ranked = dfagr.select(\"Make\",\"Model\",\"count\",rank().over(w).alias(\"Ranking\"))\n",
        "dfagr.printSchema()\n",
        "df_ranked.show(n=30, truncate=False)"
      ],
      "metadata": {
        "colab": {
          "base_uri": "https://localhost:8080/"
        },
        "id": "7sOshcKHQLhl",
        "outputId": "43689418-39d6-4958-eb56-2e91d35f9627"
      },
      "execution_count": null,
      "outputs": [
        {
          "output_type": "stream",
          "name": "stdout",
          "text": [
            "root\n",
            " |-- Make: string (nullable = true)\n",
            " |-- Model: string (nullable = true)\n",
            " |-- count: long (nullable = false)\n",
            "\n",
            "+---------+----------------+-----+-------+\n",
            "|Make     |Model           |count|Ranking|\n",
            "+---------+----------------+-----+-------+\n",
            "|AUDI     |A3              |575  |1      |\n",
            "|AUDI     |E-TRON          |524  |2      |\n",
            "|AUDI     |Q5 E            |479  |3      |\n",
            "|AUDI     |Q5              |138  |4      |\n",
            "|AUDI     |E-TRON SPORTBACK|72   |5      |\n",
            "|AUDI     |A7              |11   |6      |\n",
            "|AUDI     |A8 E            |3    |7      |\n",
            "|BENTLEY  |BENTAYGA        |2    |1      |\n",
            "|BENTLEY  |FLYING SPUR     |1    |2      |\n",
            "|BMW      |I3              |1865 |1      |\n",
            "|BMW      |X5              |1407 |2      |\n",
            "|BMW      |530E            |323  |3      |\n",
            "|BMW      |330E            |303  |4      |\n",
            "|BMW      |X3              |292  |5      |\n",
            "|BMW      |I8              |102  |6      |\n",
            "|BMW      |740E            |30   |7      |\n",
            "|BMW      |745E            |7    |8      |\n",
            "|BMW      |745LE           |2    |9      |\n",
            "|CADILLAC |ELR             |76   |1      |\n",
            "|CADILLAC |CT6             |32   |2      |\n",
            "|CHEVROLET|BOLT EV         |3590 |1      |\n",
            "|CHEVROLET|VOLT            |3511 |2      |\n",
            "|CHEVROLET|SPARK           |249  |3      |\n",
            "|CHRYSLER |PACIFICA        |1794 |1      |\n",
            "|FIAT     |500             |716  |1      |\n",
            "|FORD     |FUSION          |1658 |1      |\n",
            "|FORD     |C-MAX           |1167 |2      |\n",
            "|FORD     |ESCAPE          |234  |3      |\n",
            "|FORD     |FOCUS           |167  |4      |\n",
            "|HONDA    |CLARITY         |783  |1      |\n",
            "+---------+----------------+-----+-------+\n",
            "only showing top 30 rows\n",
            "\n"
          ]
        }
      ]
    },
    {
      "cell_type": "markdown",
      "source": [
        "Se realizó una agrupación por marca y modelo para conocer el rango de recorrido de los vehículos, obteniendo los siguientes resultados."
      ],
      "metadata": {
        "id": "Fo1SNszTC_nG"
      }
    },
    {
      "cell_type": "code",
      "source": [
        "#Agrupamos para conocer el rango de recorrido por cada marca y modelo\n",
        "from pyspark.sql.functions import count, avg, max, min\n",
        "dfagr2 = df.groupBy(\"Make\",\"Model\").agg(max(\"Electric Range\"),min(\"Electric Range\")) \n",
        "dfagr2 = dfagr2.orderBy(dfagr2[\"max(Electric Range)\"].desc())\n",
        "dfagr2.show(n=30, truncate=False)"
      ],
      "metadata": {
        "colab": {
          "base_uri": "https://localhost:8080/"
        },
        "id": "J7c8C2d69mgA",
        "outputId": "7ffd979f-109a-4abb-cde6-49013c2e99ff"
      },
      "execution_count": null,
      "outputs": [
        {
          "output_type": "stream",
          "name": "stdout",
          "text": [
            "+-------------+---------------------+-------------------+-------------------+\n",
            "|Make         |Model                |max(Electric Range)|min(Electric Range)|\n",
            "+-------------+---------------------+-------------------+-------------------+\n",
            "|TESLA        |MODEL S              |337                |208                |\n",
            "|TESLA        |MODEL 3              |322                |215                |\n",
            "|TESLA        |MODEL X              |293                |200                |\n",
            "|TESLA        |MODEL Y              |291                |291                |\n",
            "|CHEVROLET    |BOLT EV              |259                |238                |\n",
            "|HYUNDAI      |KONA                 |258                |258                |\n",
            "|KIA          |NIRO                 |239                |26                 |\n",
            "|JAGUAR       |I-PACE               |234                |234                |\n",
            "|POLESTAR     |PS2                  |233                |233                |\n",
            "|AUDI         |E-TRON               |222                |204                |\n",
            "|AUDI         |E-TRON SPORTBACK     |218                |218                |\n",
            "|NISSAN       |LEAF                 |215                |84                 |\n",
            "|PORSCHE      |TAYCAN               |203                |192                |\n",
            "|HYUNDAI      |IONIQ                |170                |29                 |\n",
            "|BMW          |I3                   |153                |72                 |\n",
            "|VOLKSWAGEN   |E-GOLF               |125                |83                 |\n",
            "|KIA          |SOUL EV              |111                |93                 |\n",
            "|MINI         |HARDTOP              |110                |110                |\n",
            "|TOYOTA       |RAV4                 |103                |103                |\n",
            "|FORD         |FOCUS                |100                |76                 |\n",
            "|KIA          |SOUL                 |93                 |93                 |\n",
            "|MERCEDES-BENZ|B-CLASS              |87                 |87                 |\n",
            "|FIAT         |500                  |87                 |84                 |\n",
            "|CHEVROLET    |SPARK                |82                 |82                 |\n",
            "|SMART        |FORTWO               |68                 |57                 |\n",
            "|SMART        |FORTWO ELECTRIC DRIVE|68                 |58                 |\n",
            "|MITSUBISHI   |I-MIEV               |62                 |59                 |\n",
            "|SMART        |EQ FORTWO            |58                 |58                 |\n",
            "|CHEVROLET    |VOLT                 |53                 |38                 |\n",
            "|HONDA        |CLARITY              |48                 |47                 |\n",
            "+-------------+---------------------+-------------------+-------------------+\n",
            "only showing top 30 rows\n",
            "\n"
          ]
        }
      ]
    },
    {
      "cell_type": "markdown",
      "source": [
        "Se agrega otro dataset para realizar una operación JOIN"
      ],
      "metadata": {
        "id": "ZkasAJ0WDDI2"
      }
    },
    {
      "cell_type": "code",
      "source": [
        "from pyspark.sql import SparkSession, DataFrame\n",
        "import sys\n",
        " \n",
        " \n",
        "spark = SparkSession.builder \\\n",
        "    .master('local') \\\n",
        "    .appName('test etl') \\\n",
        "    .config('spark.executor.memory', '1gb') \\\n",
        "    .config(\"spark.cores.max\", \"2\") \\\n",
        "    .getOrCreate()\n",
        " \n",
        "separator = \",\"\n",
        "df2 = spark.read.option(\"delimiter\", separator).csv('/content/drive/MyDrive/FinalBigData_(Datasets)/Electric_Vehicle_Title_and_Registration_Activity.csv', header=True, inferSchema=True)\n",
        " \n",
        "df2.printSchema()\n",
        " \n",
        "df2.show(n=30, truncate=False)\n",
        " \n",
        "#display(df)\n",
        " \n",
        "print(\"Cant=\" + str(df.count()))\n",
        " \n",
        "# Se observará que sale un DF de una sola columna y es porque faltó especificar el separador.\n",
        "# separator = \"\\t\"\n",
        "# .option(\"delimiter\", separator)"
      ],
      "metadata": {
        "colab": {
          "base_uri": "https://localhost:8080/"
        },
        "id": "3Z3aD8KISuDN",
        "outputId": "3fa89e53-9280-4712-8014-eb50e6c29256"
      },
      "execution_count": null,
      "outputs": [
        {
          "output_type": "stream",
          "name": "stdout",
          "text": [
            "root\n",
            " |-- Clean Alternative Fuel Vehicle Type: string (nullable = true)\n",
            " |-- VIN (1-10): string (nullable = true)\n",
            " |-- Model Year: integer (nullable = true)\n",
            " |-- Make: string (nullable = true)\n",
            " |-- Model: string (nullable = true)\n",
            " |-- New or Used Vehicle: string (nullable = true)\n",
            " |-- Sale Price: integer (nullable = true)\n",
            " |-- DOL Transaction Date: string (nullable = true)\n",
            " |-- Transaction Type: string (nullable = true)\n",
            " |-- Transaction Year: integer (nullable = true)\n",
            " |-- Electric Vehicle Fee Paid: string (nullable = true)\n",
            " |-- County: string (nullable = true)\n",
            " |-- City: string (nullable = true)\n",
            " |-- Postal Code: integer (nullable = true)\n",
            " |-- Electric Range: integer (nullable = true)\n",
            " |-- Base MSRP: integer (nullable = true)\n",
            " |-- 2015 HB 2778 Exemption Eligibility: string (nullable = true)\n",
            " |-- Sale Date: string (nullable = true)\n",
            " |-- Vehicle Primary Use: string (nullable = true)\n",
            " |-- State of Residence: string (nullable = true)\n",
            " |-- DOL Vehicle ID: integer (nullable = true)\n",
            " |-- Legislative District: integer (nullable = true)\n",
            " |-- 2019 HB 2042 Clean Alternative Fuel Vehicle (CAFV) Eligibility: string (nullable = true)\n",
            " |-- Meets 2019 HB 2042 Electric Range Requirement: boolean (nullable = true)\n",
            " |-- Meets 2019 HB 2042 Sale Date Requirement: boolean (nullable = true)\n",
            " |-- Meets 2019 HB 2042 Sale Price/Value Requirement: boolean (nullable = true)\n",
            " |-- Odometer Reading: integer (nullable = true)\n",
            " |-- Odometer Code: string (nullable = true)\n",
            " |-- Transportation Electrification Fee Paid: string (nullable = true)\n",
            " |-- Hybrid Vehicle Electrification Fee Paid: string (nullable = true)\n",
            " |-- 2020 Census Tract: long (nullable = true)\n",
            " |-- Electric Utility: string (nullable = true)\n",
            "\n",
            "+--------------------------------------+----------+----------+---------+-------------+-------------------+----------+--------------------+---------------------+----------------+-------------------------+---------+------------+-----------+--------------+---------+-----------------------------------------------------------------------------------------------------------------------------------------------------------------------------------------------------------+-----------------+-------------------+------------------+--------------+--------------------+-----------------------------------------------------------------------------------------------------------------------------------+---------------------------------------------+----------------------------------------+-----------------------------------------------+----------------+----------------------------------------------------+---------------------------------------+---------------------------------------+-----------------+-------------------------------------------------------------------------------+\n",
            "|Clean Alternative Fuel Vehicle Type   |VIN (1-10)|Model Year|Make     |Model        |New or Used Vehicle|Sale Price|DOL Transaction Date|Transaction Type     |Transaction Year|Electric Vehicle Fee Paid|County   |City        |Postal Code|Electric Range|Base MSRP|2015 HB 2778 Exemption Eligibility                                                                                                                                                                         |Sale Date        |Vehicle Primary Use|State of Residence|DOL Vehicle ID|Legislative District|2019 HB 2042 Clean Alternative Fuel Vehicle (CAFV) Eligibility                                                                     |Meets 2019 HB 2042 Electric Range Requirement|Meets 2019 HB 2042 Sale Date Requirement|Meets 2019 HB 2042 Sale Price/Value Requirement|Odometer Reading|Odometer Code                                       |Transportation Electrification Fee Paid|Hybrid Vehicle Electrification Fee Paid|2020 Census Tract|Electric Utility                                                               |\n",
            "+--------------------------------------+----------+----------+---------+-------------+-------------------+----------+--------------------+---------------------+----------------+-------------------------+---------+------------+-----------+--------------+---------+-----------------------------------------------------------------------------------------------------------------------------------------------------------------------------------------------------------+-----------------+-------------------+------------------+--------------+--------------------+-----------------------------------------------------------------------------------------------------------------------------------+---------------------------------------------+----------------------------------------+-----------------------------------------------+----------------+----------------------------------------------------+---------------------------------------+---------------------------------------+-----------------+-------------------------------------------------------------------------------+\n",
            "|Battery Electric Vehicle (BEV)        |7FCTGAAA8N|2022      |RIVIAN   |R1T          |New                |0         |August 16 2022      |Original Registration|2022            |No                       |King     |SEATTLE     |98107      |0             |0        |ERROR: No battery range; TRANSACTION NOT ELIGIBLE: Non-sale, registration transaction                                                                                                                      |null             |Truck              |WA                |216581403     |43                  |ERROR: No battery range; TRANSACTION NOT ELIGIBLE: Non-sale, registration transaction                                              |false                                        |false                                   |false                                          |0               |Odometer reading is not collected at time of renewal|No                                     |No                                     |53033004800      |CITY OF SEATTLE - (WA)|CITY OF TACOMA - (WA)                                   |\n",
            "|Battery Electric Vehicle (BEV)        |5YJ3E1EBXN|2022      |TESLA    |Model 3      |New                |70440     |October 11 2022     |Original Title       |2022            |Not Applicable           |King     |SEATTLE     |98107      |0             |0        |ERROR: No battery range; TRANSACTION NOT ELIGIBLE: Sale after 5/31/2018; CANNOT DETERMINE ELIGIBILITY: Base MSRP has not been determined                                                                   |September 09 2022|Passenger          |WA                |219017578     |43                  |ERROR: No battery range; TRANSACTION NOT ELIGIBLE: Sale price too high                                                             |false                                        |true                                    |false                                          |15              |Actual Mileage                                      |Not Applicable                         |Not Applicable                         |53033004800      |CITY OF SEATTLE - (WA)|CITY OF TACOMA - (WA)                                   |\n",
            "|Battery Electric Vehicle (BEV)        |5YJ3E1EBXN|2022      |TESLA    |Model 3      |New                |0         |October 11 2022     |Original Registration|2022            |No                       |King     |SEATTLE     |98107      |0             |0        |ERROR: No battery range; TRANSACTION NOT ELIGIBLE: Non-sale, registration transaction                                                                                                                      |null             |Passenger          |WA                |219017578     |43                  |ERROR: No battery range; TRANSACTION NOT ELIGIBLE: Non-sale, registration transaction                                              |false                                        |false                                   |false                                          |0               |Odometer reading is not collected at time of renewal|No                                     |No                                     |53033004800      |CITY OF SEATTLE - (WA)|CITY OF TACOMA - (WA)                                   |\n",
            "|Battery Electric Vehicle (BEV)        |1G1FX6S07H|2017      |CHEVROLET|Bolt EV      |Used               |21219     |October 15 2019     |Original Title       |2019            |Not Applicable           |Lewis    |CHEHALIS    |98532      |238           |0        |TRANSACTION NOT ELIGIBLE: Not a new vehicle; TRANSACTION NOT ELIGIBLE: Sale after 5/31/2018; CANNOT DETERMINE ELIGIBILITY: Base MSRP has not been determined                                               |September 21 2019|Passenger          |WA                |477229294     |20                  |Clean Alternative Fuel Vehicle                                                                                                     |true                                         |true                                    |true                                           |43515           |Actual Mileage                                      |Not Applicable                         |Not Applicable                         |53041970200      |PUGET SOUND ENERGY INC||CITY OF TACOMA - (WA)                                  |\n",
            "|Battery Electric Vehicle (BEV)        |1G1FX6S07H|2017      |CHEVROLET|Bolt EV      |Used               |0         |October 15 2019     |Original Registration|2019            |No                       |Lewis    |CHEHALIS    |98532      |238           |0        |TRANSACTION NOT ELIGIBLE: Non-sale, registration transaction                                                                                                                                               |null             |Passenger          |WA                |477229294     |20                  |TRANSACTION NOT ELIGIBLE: Non-sale, registration transaction                                                                       |true                                         |false                                   |false                                          |0               |Odometer reading is not collected at time of renewal|No                                     |No                                     |53041970200      |PUGET SOUND ENERGY INC||CITY OF TACOMA - (WA)                                  |\n",
            "|Battery Electric Vehicle (BEV)        |1G1FX6S07H|2017      |CHEVROLET|Bolt EV      |Used               |0         |September 22 2020   |Registration Renewal |2020            |Yes                      |Lewis    |CHEHALIS    |98532      |238           |0        |TRANSACTION NOT ELIGIBLE: Non-sale, registration transaction                                                                                                                                               |null             |Passenger          |WA                |477229294     |20                  |TRANSACTION NOT ELIGIBLE: Non-sale, registration transaction                                                                       |true                                         |false                                   |false                                          |0               |Odometer reading is not collected at time of renewal|Yes                                    |No                                     |53041970200      |PUGET SOUND ENERGY INC||CITY OF TACOMA - (WA)                                  |\n",
            "|Battery Electric Vehicle (BEV)        |5YJ3E1EB7K|2019      |TESLA    |Model 3      |Used               |0         |June 06 2022        |Registration Renewal |2022            |Yes                      |King     |KIRKLAND    |98034      |220           |0        |TRANSACTION NOT ELIGIBLE: Non-sale, registration transaction                                                                                                                                               |null             |Passenger          |WA                |145479820     |45                  |TRANSACTION NOT ELIGIBLE: Non-sale, registration transaction                                                                       |true                                         |false                                   |false                                          |0               |Odometer reading is not collected at time of renewal|Yes                                    |No                                     |53033022003      |PUGET SOUND ENERGY INC||CITY OF TACOMA - (WA)                                  |\n",
            "|Battery Electric Vehicle (BEV)        |7SAYGDEF9N|2022      |TESLA    |Model Y      |New                |64440     |February 18 2022    |Original Title       |2022            |Not Applicable           |King     |KIRKLAND    |98033      |0             |0        |ERROR: No battery range; TRANSACTION NOT ELIGIBLE: Sale after 5/31/2018; CANNOT DETERMINE ELIGIBILITY: Base MSRP has not been determined                                                                   |January 26 2022  |Passenger          |WA                |190486236     |45                  |ERROR: No battery range; TRANSACTION NOT ELIGIBLE: Sale price too high                                                             |false                                        |true                                    |false                                          |15              |Actual Mileage                                      |Not Applicable                         |Not Applicable                         |53033022501      |PUGET SOUND ENERGY INC||CITY OF TACOMA - (WA)                                  |\n",
            "|Battery Electric Vehicle (BEV)        |7SAYGDEF9N|2022      |TESLA    |Model Y      |New                |0         |February 18 2022    |Original Registration|2022            |No                       |King     |KIRKLAND    |98033      |0             |0        |ERROR: No battery range; TRANSACTION NOT ELIGIBLE: Non-sale, registration transaction                                                                                                                      |null             |Passenger          |WA                |190486236     |45                  |ERROR: No battery range; TRANSACTION NOT ELIGIBLE: Non-sale, registration transaction                                              |false                                        |false                                   |false                                          |0               |Odometer reading is not collected at time of renewal|No                                     |No                                     |53033022501      |PUGET SOUND ENERGY INC||CITY OF TACOMA - (WA)                                  |\n",
            "|Plug-in Hybrid Electric Vehicle (PHEV)|JTDKN3DP5D|2013      |TOYOTA   |Prius Plug-in|Used               |0         |March 02 2016       |Original Registration|2016            |No                       |Pierce   |GIG HARBOR  |98329      |6             |0        |VEHICLE MODEL NOT ELIGIBLE: Low battery range; TRANSACTION NOT ELIGIBLE: Non-sale, registration transaction                                                                                                |null             |Passenger          |WA                |194863266     |26                  |VEHICLE MODEL NOT ELIGIBLE: Low battery range; TRANSACTION NOT ELIGIBLE: Non-sale, registration transaction                        |false                                        |false                                   |false                                          |60000           |Actual Mileage                                      |null                                   |null                                   |53053072503      |BONNEVILLE POWER ADMINISTRATION||CITY OF TACOMA - (WA)||PENINSULA LIGHT COMPANY|\n",
            "|Plug-in Hybrid Electric Vehicle (PHEV)|JTDKN3DP5D|2013      |TOYOTA   |Prius Plug-in|Used               |0         |March 02 2016       |Original Title       |2016            |Not Applicable           |Pierce   |GIG HARBOR  |98329      |6             |0        |VEHICLE MODEL NOT ELIGIBLE: Low battery range; TRANSACTION NOT ELIGIBLE: Not a new vehicle; CANNOT DETERMINE ELIGIBILITY: Base MSRP has not been determined                                                |null             |Passenger          |WA                |194863266     |26                  |VEHICLE MODEL NOT ELIGIBLE: Low battery range; TRANSACTION NOT ELIGIBLE: Sale before August 2019; CAUTION: Sale price not available|false                                        |false                                   |false                                          |60000           |Actual Mileage                                      |null                                   |null                                   |53053072503      |BONNEVILLE POWER ADMINISTRATION||CITY OF TACOMA - (WA)||PENINSULA LIGHT COMPANY|\n",
            "|Battery Electric Vehicle (BEV)        |7SAYGDEF9N|2022      |TESLA    |Model Y      |New                |71940     |October 18 2022     |Original Title       |2022            |Not Applicable           |King     |KIRKLAND    |98034      |0             |0        |ERROR: No battery range; TRANSACTION NOT ELIGIBLE: Sale after 5/31/2018; CANNOT DETERMINE ELIGIBILITY: Base MSRP has not been determined                                                                   |September 16 2022|Passenger          |WA                |219314959     |1                   |ERROR: No battery range; TRANSACTION NOT ELIGIBLE: Sale price too high                                                             |false                                        |true                                    |false                                          |15              |Actual Mileage                                      |Not Applicable                         |Not Applicable                         |53033022300      |PUGET SOUND ENERGY INC||CITY OF TACOMA - (WA)                                  |\n",
            "|Battery Electric Vehicle (BEV)        |7SAYGDEF9N|2022      |TESLA    |Model Y      |New                |0         |October 18 2022     |Original Registration|2022            |No                       |King     |KIRKLAND    |98034      |0             |0        |ERROR: No battery range; TRANSACTION NOT ELIGIBLE: Non-sale, registration transaction                                                                                                                      |null             |Passenger          |WA                |219314959     |1                   |ERROR: No battery range; TRANSACTION NOT ELIGIBLE: Non-sale, registration transaction                                              |false                                        |false                                   |false                                          |0               |Odometer reading is not collected at time of renewal|No                                     |No                                     |53033022300      |PUGET SOUND ENERGY INC||CITY OF TACOMA - (WA)                                  |\n",
            "|Battery Electric Vehicle (BEV)        |5YJYGDEE7M|2021      |TESLA    |Model Y      |New                |53290     |February 18 2021    |Original Title       |2021            |Not Applicable           |Clark    |VANCOUVER   |98662      |0             |0        |ERROR: No battery range; TRANSACTION NOT ELIGIBLE: Sale after 5/31/2018; CANNOT DETERMINE ELIGIBILITY: Base MSRP has not been determined                                                                   |January 30 2021  |Passenger          |WA                |144089760     |17                  |ERROR: No battery range; TRANSACTION NOT ELIGIBLE: Sale price too high                                                             |false                                        |true                                    |false                                          |15              |Actual Mileage                                      |Not Applicable                         |Not Applicable                         |53011040709      |BONNEVILLE POWER ADMINISTRATION||PUD NO 1 OF CLARK COUNTY - (WA)               |\n",
            "|Battery Electric Vehicle (BEV)        |5YJYGDEE7M|2021      |TESLA    |Model Y      |New                |0         |February 18 2021    |Original Registration|2021            |No                       |Clark    |VANCOUVER   |98662      |0             |0        |ERROR: No battery range; TRANSACTION NOT ELIGIBLE: Non-sale, registration transaction                                                                                                                      |null             |Passenger          |WA                |144089760     |17                  |ERROR: No battery range; TRANSACTION NOT ELIGIBLE: Non-sale, registration transaction                                              |false                                        |false                                   |false                                          |0               |Odometer reading is not collected at time of renewal|No                                     |No                                     |53011040709      |BONNEVILLE POWER ADMINISTRATION||PUD NO 1 OF CLARK COUNTY - (WA)               |\n",
            "|Battery Electric Vehicle (BEV)        |5YJYGDEE7M|2021      |TESLA    |Model Y      |Used               |0         |December 30 2021    |Registration Renewal |2021            |Yes                      |Clark    |VANCOUVER   |98662      |0             |0        |ERROR: No battery range; TRANSACTION NOT ELIGIBLE: Non-sale, registration transaction                                                                                                                      |null             |Passenger          |WA                |144089760     |17                  |ERROR: No battery range; TRANSACTION NOT ELIGIBLE: Non-sale, registration transaction                                              |false                                        |false                                   |false                                          |0               |Odometer reading is not collected at time of renewal|Yes                                    |No                                     |53011040709      |BONNEVILLE POWER ADMINISTRATION||PUD NO 1 OF CLARK COUNTY - (WA)               |\n",
            "|Plug-in Hybrid Electric Vehicle (PHEV)|1G1RB6S57H|2017      |CHEVROLET|Volt         |New                |39559     |January 18 2017     |Original Title       |2017            |Not Applicable           |Kitsap   |PORT ORCHARD|98366      |53            |0        |CANNOT DETERMINE ELIGIBILITY: Base MSRP has not been determined                                                                                                                                            |December 18 2016 |Passenger          |WA                |9064716       |26                  |TRANSACTION NOT ELIGIBLE: Sale before August 2019                                                                                  |true                                         |false                                   |true                                           |22              |Actual Mileage                                      |Not Applicable                         |Not Applicable                         |53035092704      |PUGET SOUND ENERGY INC                                                         |\n",
            "|Plug-in Hybrid Electric Vehicle (PHEV)|1G1RB6S57H|2017      |CHEVROLET|Volt         |New                |0         |January 18 2017     |Original Registration|2017            |No                       |Kitsap   |PORT ORCHARD|98366      |53            |0        |TRANSACTION NOT ELIGIBLE: Non-sale, registration transaction                                                                                                                                               |null             |Passenger          |WA                |9064716       |26                  |TRANSACTION NOT ELIGIBLE: Non-sale, registration transaction                                                                       |true                                         |false                                   |false                                          |0               |Odometer reading is not collected at time of renewal|No                                     |No                                     |53035092704      |PUGET SOUND ENERGY INC                                                         |\n",
            "|Plug-in Hybrid Electric Vehicle (PHEV)|JTMAB3FV4M|2021      |TOYOTA   |RAV4 Prime   |New                |42414     |January 11 2022     |Original Title       |2022            |Not Applicable           |Klickitat|BINGEN      |98605      |42            |0        |TRANSACTION NOT ELIGIBLE: Sale after 5/31/2018; CANNOT DETERMINE ELIGIBILITY: Base MSRP has not been determined                                                                                            |December 11 2021 |Passenger          |WA                |190012441     |14                  |Clean Alternative Fuel Vehicle                                                                                                     |true                                         |true                                    |true                                           |14              |Actual Mileage                                      |Not Applicable                         |Not Applicable                         |53039950302      |BONNEVILLE POWER ADMINISTRATION||PUD NO 1 OF KLICKITAT COUNTY                  |\n",
            "|Plug-in Hybrid Electric Vehicle (PHEV)|JTMAB3FV4M|2021      |TOYOTA   |RAV4 Prime   |New                |0         |January 11 2022     |Original Registration|2022            |No                       |Klickitat|BINGEN      |98605      |42            |0        |TRANSACTION NOT ELIGIBLE: Non-sale, registration transaction                                                                                                                                               |null             |Passenger          |WA                |190012441     |14                  |TRANSACTION NOT ELIGIBLE: Non-sale, registration transaction                                                                       |true                                         |false                                   |false                                          |0               |Odometer reading is not collected at time of renewal|No                                     |No                                     |53039950302      |BONNEVILLE POWER ADMINISTRATION||PUD NO 1 OF KLICKITAT COUNTY                  |\n",
            "|Battery Electric Vehicle (BEV)        |5YJYGDEE5M|2021      |TESLA    |Model Y      |New                |53290     |December 23 2020    |Original Title       |2020            |Not Applicable           |King     |SEATTLE     |98117      |0             |0        |ERROR: No battery range; TRANSACTION NOT ELIGIBLE: Sale after 5/31/2018; CANNOT DETERMINE ELIGIBILITY: Base MSRP has not been determined                                                                   |December 04 2020 |Passenger          |WA                |134974738     |36                  |ERROR: No battery range; TRANSACTION NOT ELIGIBLE: Sale price too high                                                             |false                                        |true                                    |false                                          |15              |Actual Mileage                                      |Not Applicable                         |Not Applicable                         |53033002900      |CITY OF SEATTLE - (WA)|CITY OF TACOMA - (WA)                                   |\n",
            "|Battery Electric Vehicle (BEV)        |5YJYGDEE5M|2021      |TESLA    |Model Y      |New                |0         |December 23 2020    |Original Registration|2020            |No                       |King     |SEATTLE     |98117      |0             |0        |ERROR: No battery range; TRANSACTION NOT ELIGIBLE: Non-sale, registration transaction                                                                                                                      |null             |Passenger          |WA                |134974738     |36                  |ERROR: No battery range; TRANSACTION NOT ELIGIBLE: Non-sale, registration transaction                                              |false                                        |false                                   |false                                          |0               |Odometer reading is not collected at time of renewal|No                                     |No                                     |53033002900      |CITY OF SEATTLE - (WA)|CITY OF TACOMA - (WA)                                   |\n",
            "|Battery Electric Vehicle (BEV)        |5YJYGDEE5M|2021      |TESLA    |Model Y      |Used               |0         |November 15 2021    |Registration Renewal |2021            |Yes                      |King     |SEATTLE     |98117      |0             |0        |ERROR: No battery range; TRANSACTION NOT ELIGIBLE: Non-sale, registration transaction                                                                                                                      |null             |Passenger          |WA                |134974738     |36                  |ERROR: No battery range; TRANSACTION NOT ELIGIBLE: Non-sale, registration transaction                                              |false                                        |false                                   |false                                          |0               |Odometer reading is not collected at time of renewal|Yes                                    |No                                     |53033002900      |CITY OF SEATTLE - (WA)|CITY OF TACOMA - (WA)                                   |\n",
            "|Plug-in Hybrid Electric Vehicle (PHEV)|5UXKT0C53J|2018      |BMW      |X5           |Used               |43000     |June 15 2021        |Original Title       |2021            |Not Applicable           |King     |AUBURN      |98001      |13            |0        |VEHICLE MODEL NOT ELIGIBLE: Low battery range; TRANSACTION NOT ELIGIBLE: Not a new vehicle; TRANSACTION NOT ELIGIBLE: Sale after 5/31/2018; CANNOT DETERMINE ELIGIBILITY: Base MSRP has not been determined|May 23 2021      |Passenger          |WA                |157695324     |47                  |VEHICLE MODEL NOT ELIGIBLE: Low battery range; TRANSACTION NOT ELIGIBLE: Sale price too high                                       |false                                        |true                                    |false                                          |28309           |Actual Mileage                                      |Not Applicable                         |Not Applicable                         |53033030501      |PUGET SOUND ENERGY INC||CITY OF TACOMA - (WA)                                  |\n",
            "|Plug-in Hybrid Electric Vehicle (PHEV)|5UXKT0C53J|2018      |BMW      |X5           |Used               |0         |June 15 2021        |Original Registration|2021            |No                       |King     |AUBURN      |98001      |13            |0        |VEHICLE MODEL NOT ELIGIBLE: Low battery range; TRANSACTION NOT ELIGIBLE: Non-sale, registration transaction                                                                                                |null             |Passenger          |WA                |157695324     |47                  |VEHICLE MODEL NOT ELIGIBLE: Low battery range; TRANSACTION NOT ELIGIBLE: Non-sale, registration transaction                        |false                                        |false                                   |false                                          |0               |Odometer reading is not collected at time of renewal|No                                     |No                                     |53033030501      |PUGET SOUND ENERGY INC||CITY OF TACOMA - (WA)                                  |\n",
            "|Battery Electric Vehicle (BEV)        |5YJ3E1EA8L|2020      |TESLA    |Model 3      |Used               |0         |September 11 2021   |Original Title       |2021            |Not Applicable           |King     |AUBURN      |98001      |266           |0        |TRANSACTION NOT ELIGIBLE: Not a new vehicle; TRANSACTION NOT ELIGIBLE: Sale after 5/31/2018; CANNOT DETERMINE ELIGIBILITY: Base MSRP has not been determined                                               |August 21 2020   |Passenger          |WA                |177917526     |47                  |TRANSACTION NOT ELIGIBLE: Non-sale                                                                                                 |true                                         |false                                   |false                                          |15649           |Actual Mileage                                      |Not Applicable                         |Not Applicable                         |53033030501      |PUGET SOUND ENERGY INC||CITY OF TACOMA - (WA)                                  |\n",
            "|Battery Electric Vehicle (BEV)        |5YJ3E1EA8L|2020      |TESLA    |Model 3      |Used               |0         |September 11 2021   |Original Registration|2021            |No                       |King     |AUBURN      |98001      |266           |0        |TRANSACTION NOT ELIGIBLE: Non-sale, registration transaction                                                                                                                                               |null             |Passenger          |WA                |177917526     |47                  |TRANSACTION NOT ELIGIBLE: Non-sale, registration transaction                                                                       |true                                         |false                                   |false                                          |0               |Odometer reading is not collected at time of renewal|No                                     |No                                     |53033030501      |PUGET SOUND ENERGY INC||CITY OF TACOMA - (WA)                                  |\n",
            "|Battery Electric Vehicle (BEV)        |5YJ3E1EA8L|2020      |TESLA    |Model 3      |Used               |0         |August 15 2022      |Registration Renewal |2022            |Yes                      |King     |AUBURN      |98001      |266           |0        |TRANSACTION NOT ELIGIBLE: Non-sale, registration transaction                                                                                                                                               |null             |Passenger          |WA                |177917526     |47                  |TRANSACTION NOT ELIGIBLE: Non-sale, registration transaction                                                                       |true                                         |false                                   |false                                          |0               |Odometer reading is not collected at time of renewal|Yes                                    |No                                     |53033030501      |PUGET SOUND ENERGY INC||CITY OF TACOMA - (WA)                                  |\n",
            "|Plug-in Hybrid Electric Vehicle (PHEV)|JTMAB3FV4M|2021      |TOYOTA   |RAV4 Prime   |New                |43097     |October 25 2021     |Original Title       |2021            |Not Applicable           |King     |AUBURN      |98001      |42            |0        |TRANSACTION NOT ELIGIBLE: Sale after 5/31/2018; CANNOT DETERMINE ELIGIBILITY: Base MSRP has not been determined                                                                                            |September 25 2021|Passenger          |WA                |181358292     |47                  |Clean Alternative Fuel Vehicle                                                                                                     |true                                         |true                                    |true                                           |6               |Actual Mileage                                      |Not Applicable                         |Not Applicable                         |53033030501      |PUGET SOUND ENERGY INC||CITY OF TACOMA - (WA)                                  |\n",
            "|Plug-in Hybrid Electric Vehicle (PHEV)|JTMAB3FV4M|2021      |TOYOTA   |RAV4 Prime   |New                |0         |October 25 2021     |Original Registration|2021            |No                       |King     |AUBURN      |98001      |42            |0        |TRANSACTION NOT ELIGIBLE: Non-sale, registration transaction                                                                                                                                               |null             |Passenger          |WA                |181358292     |47                  |TRANSACTION NOT ELIGIBLE: Non-sale, registration transaction                                                                       |true                                         |false                                   |false                                          |0               |Odometer reading is not collected at time of renewal|No                                     |No                                     |53033030501      |PUGET SOUND ENERGY INC||CITY OF TACOMA - (WA)                                  |\n",
            "+--------------------------------------+----------+----------+---------+-------------+-------------------+----------+--------------------+---------------------+----------------+-------------------------+---------+------------+-----------+--------------+---------+-----------------------------------------------------------------------------------------------------------------------------------------------------------------------------------------------------------+-----------------+-------------------+------------------+--------------+--------------------+-----------------------------------------------------------------------------------------------------------------------------------+---------------------------------------------+----------------------------------------+-----------------------------------------------+----------------+----------------------------------------------------+---------------------------------------+---------------------------------------+-----------------+-------------------------------------------------------------------------------+\n",
            "only showing top 30 rows\n",
            "\n",
            "Cant=66098\n"
          ]
        }
      ]
    },
    {
      "cell_type": "markdown",
      "source": [
        "Finalmente se realizó un LEFT JOIN para buscar en el dataset: “Electric Vehicle Title and Registration Activity”, el precio de venta de los vehículos. Por tanto en este dataset nos aseguramos que tuviera un precio de venta mayor a cero mediante un filtro. Para este caso también renombramos el nombre de la columna con la que hicimos el LEFT JOIN. El resultado se muestra a continuación:"
      ],
      "metadata": {
        "id": "faiaOnCHDLe_"
      }
    },
    {
      "cell_type": "code",
      "source": [
        "df = df.withColumnRenamed(\"DOL Vehicle ID\", \"DOLVehicleID\")\n",
        "df2 = df2.withColumnRenamed(\"DOL Vehicle ID\", \"DOLVehicleID\")\n",
        "df2 = df2.where(df2[\"Sale Price\"] > '0')\n",
        "join_fields = ['DOLVehicleID']\n",
        "df_result = df2.alias(\"T\").join(df.alias(\"R\"), \n",
        "                                       on=join_fields, \n",
        "                                       how=\"left_outer\").select([\"R.DOLVehicleID\",\"R.Make\",\"R.Model\",\"R.Model Year\"] + [col(\"T.Sale Price\")])\n",
        "df_result.show(n=30, truncate=False)     "
      ],
      "metadata": {
        "colab": {
          "base_uri": "https://localhost:8080/"
        },
        "id": "lPYg59lhv0Pr",
        "outputId": "8c7a9298-1057-4677-c7b7-9ac2f41fcc0d"
      },
      "execution_count": null,
      "outputs": [
        {
          "output_type": "stream",
          "name": "stdout",
          "text": [
            "+------------+----------+----------+----------+----------+\n",
            "|DOLVehicleID|Make      |Model     |Model Year|Sale Price|\n",
            "+------------+----------+----------+----------+----------+\n",
            "|null        |null      |null      |null      |70440     |\n",
            "|477229294   |CHEVROLET |BOLT EV   |2017      |21219     |\n",
            "|null        |null      |null      |null      |64440     |\n",
            "|null        |null      |null      |null      |71940     |\n",
            "|null        |null      |null      |null      |53290     |\n",
            "|null        |null      |null      |null      |39559     |\n",
            "|190012441   |TOYOTA    |RAV4 PRIME|2021      |42414     |\n",
            "|null        |null      |null      |null      |53290     |\n",
            "|157695324   |BMW       |X5        |2018      |43000     |\n",
            "|181358292   |TOYOTA    |RAV4 PRIME|2021      |43097     |\n",
            "|null        |null      |null      |null      |47995     |\n",
            "|140137504   |KIA       |NIRO      |2020      |31304     |\n",
            "|null        |null      |null      |null      |137440    |\n",
            "|null        |null      |null      |null      |65190     |\n",
            "|274819324   |VOLKSWAGEN|E-GOLF    |2019      |23590     |\n",
            "|155221552   |CHEVROLET |BOLT EV   |2017      |37663     |\n",
            "|294615051   |TESLA     |MODEL X   |2019      |96690     |\n",
            "|103630439   |TESLA     |MODEL 3   |2020      |52790     |\n",
            "|225119674   |NISSAN    |LEAF      |2015      |10599     |\n",
            "|200863547   |TESLA     |MODEL S   |2020      |82998     |\n",
            "|198325585   |AUDI      |E-TRON    |2019      |58000     |\n",
            "|null        |null      |null      |null      |140500    |\n",
            "|168525094   |TESLA     |MODEL 3   |2018      |37980     |\n",
            "|null        |null      |null      |null      |1000      |\n",
            "|145229598   |NISSAN    |LEAF      |2015      |11000     |\n",
            "|166071125   |BMW       |X3        |2021      |57795     |\n",
            "|null        |null      |null      |null      |36665     |\n",
            "|null        |null      |null      |null      |45000     |\n",
            "|121857928   |HONDA     |CLARITY   |2018      |25998     |\n",
            "|154718574   |BMW       |I3        |2015      |18443     |\n",
            "+------------+----------+----------+----------+----------+\n",
            "only showing top 30 rows\n",
            "\n"
          ]
        }
      ]
    },
    {
      "cell_type": "markdown",
      "source": [
        "Para realizar el guardado se utilizó el formato Parquet y el modo “Overwrite”. Los objetos se guardaron en una carpeta creada en el Google Drive: “FinalBigDataGuardado”."
      ],
      "metadata": {
        "id": "gUYipFQwDQ8x"
      }
    },
    {
      "cell_type": "code",
      "source": [
        "df.repartition(50).write.format(\"parquet\").partitionBy(\"Model Year\", \"Electric Vehicle Type\").mode(\"overwrite\").save(\"/content/drive/MyDrive/FinalBigDataGuardado\")"
      ],
      "metadata": {
        "id": "ORJKn7gDYNn2"
      },
      "execution_count": null,
      "outputs": []
    }
  ]
}